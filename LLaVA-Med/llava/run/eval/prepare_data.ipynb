{
 "cells": [
  {
   "cell_type": "code",
   "execution_count": 73,
   "metadata": {},
   "outputs": [
    {
     "name": "stdout",
     "output_type": "stream",
     "text": [
      "数据已成功保存到 ../../data/eval/Chest-X-ray.jsonl 文件中。\n"
     ]
    }
   ],
   "source": [
    "import json\n",
    "import random\n",
    "import pandas as pd\n",
    "\n",
    "dataset = \"Chest-X-ray\"\n",
    "\n",
    "# convert csv to jsonl\n",
    "data = pd.read_csv(f\"../../data/eval/{dataset}.csv\")\n",
    "\n",
    "# 将DataFrame转换为字典列表\n",
    "data_list = data.to_dict(orient='records')\n",
    "\n",
    "# 固定随机种子并打乱数据\n",
    "random.seed(1234)\n",
    "random.shuffle(data_list)\n",
    "split_point = int(len(data_list) * 0.75)\n",
    "\n",
    "new_data = []\n",
    "for idx, item in enumerate(data_list):\n",
    "    # 提取img_path和Finding Label\n",
    "    img_path = item.get(\"img_path\")\n",
    "    finding_label = item.get(\"Finding Label\").lower()\n",
    "\n",
    "    if isinstance(finding_label, str):\n",
    "        finding_label = finding_label.replace('|', ', ')\n",
    "        \n",
    "    # 创建新的数据项\n",
    "    new_item = {\n",
    "        \"image\": img_path,\n",
    "        \"label\": finding_label,\n",
    "        \"split\": \"train\" if idx < split_point else \"test\" \n",
    "    }\n",
    "    \n",
    "    # 添加到new_data列表中\n",
    "    new_data.append(new_item)\n",
    "random.shuffle(new_data)\n",
    "# 将数据保存为JSONL文件\n",
    "jsonl_file = f\"../../data/eval/{dataset}.jsonl\"\n",
    "with open(jsonl_file, mode='w', encoding='utf-8') as f:\n",
    "    for item in new_data:\n",
    "        f.write(json.dumps(item) + \"\\n\")\n",
    "\n",
    "print(f\"数据已成功保存到 {jsonl_file} 文件中。\")"
   ]
  },
  {
   "cell_type": "code",
   "execution_count": 72,
   "metadata": {},
   "outputs": [
    {
     "name": "stdout",
     "output_type": "stream",
     "text": [
      "Labels saved to ../../data/eval/Chest-X-ray_classes.json\n"
     ]
    }
   ],
   "source": [
    "import json\n",
    "import random\n",
    "import pandas as pd\n",
    "\n",
    "dataset = \"Chest-X-ray\"\n",
    "labels = set()\n",
    "\n",
    "jsonl_file = f\"../../data/eval/{dataset}.jsonl\"\n",
    "with open(jsonl_file, mode='w', encoding='utf-8') as f:\n",
    "    for item in new_data:\n",
    "        label = item.get(\"label\")\n",
    "        if label:  # 如果 label 存在\n",
    "            split_labels = label.split(\",\")  # 根据逗号拆分标签\n",
    "            split_labels = [lbl.strip() for lbl in split_labels]  # 去掉每个类别的前后空格\n",
    "            labels.update(split_labels)  # 更新到集合中\n",
    "\n",
    "# 将集合转换为列表并保存为 JSON 文件\n",
    "labels_list = list(labels)\n",
    "output_file = f\"../../data/eval/{dataset}_classes.json\"\n",
    "\n",
    "with open(output_file, mode='w', encoding='utf-8') as f:\n",
    "    json.dump(labels_list, f, ensure_ascii=False, indent=4)\n",
    "\n",
    "print(f\"Labels saved to {output_file}\")"
   ]
  },
  {
   "cell_type": "code",
   "execution_count": 1,
   "metadata": {},
   "outputs": [
    {
     "name": "stdout",
     "output_type": "stream",
     "text": [
      "数据已成功保存到 ../data/eval/test_prompt/Chest-X-ray_llava_val.jsonl 文件中。\n"
     ]
    }
   ],
   "source": [
    "import json\n",
    "import random\n",
    "import pandas as pd\n",
    "\n",
    "dataset = \"Chest-X-ray\"\n",
    "\n",
    "data = [json.loads(line) for line in open(f\"../data/eval/{dataset}.jsonl\")]\n",
    "\n",
    "\n",
    "new_data = []\n",
    "for idx, item in enumerate(data):\n",
    "    new_item = {\n",
    "        \"image\": item[\"image\"].replace(\"/srv/lby/\", \"\"),\n",
    "        \"text\": \"What type of disease is shown in this chest x-ray image? Here is the given list: ['fibrosis', 'edema', 'pneumothorax', 'cardiomegaly', 'atelectasis', 'nodule', 'emphysema', 'no finding', 'mass', 'pleural_thickening', 'effusion', 'infiltration', 'pneumonia', 'hernia', 'consolidation']. \\nAnswer the question using a single word or phrase from the given list directly.\", \n",
    "        \"category\": \"conv\",\n",
    "        \"label\": item[\"label\"],\n",
    "        \"question_id\": f'{idx}-{item[\"label\"]}',\n",
    "    }\n",
    "    new_data.append(new_item)\n",
    "\n",
    "random.shuffle(new_data)\n",
    "\n",
    "jsonl_file = f\"../data/eval/test_prompt/{dataset}_llava_val.jsonl\"\n",
    "with open(jsonl_file, mode='w', encoding='utf-8') as f:\n",
    "    for item in new_data:\n",
    "        f.write(json.dumps(item) + \"\\n\")\n",
    "        \n",
    "print(f\"数据已成功保存到 {jsonl_file} 文件中。\")\n",
    "\n",
    "\n",
    "# You are now acting as a knowledgeable radiologist. Please analyze the provided medical image and identify the most appropriate disease category or categories present in the patient. The diagnosis can involve one or more conditions. You must select the relevant categories from the following list: ['atelectasis', 'cardiomegaly', 'pleural effusion', 'infiltration', 'lung mass', 'lung nodule', 'pneumonia', 'pneumothorax', 'consolidation', 'edema', 'emphysema', 'fibrosis', 'pleural thicken', 'hernia', 'no finding']. Remember, you should only output the categories from the list, and no additional content.\n",
    "## 只输出类别的prompt\n",
    "# You are now acting as a knowledgeable radiologist. Please analyze the provided medical image and identify the most appropriate disease category or categories present in the patient. You can only output the corresponding index number of the disease in the list from 0 to 14 from the given list: ['atelectasis', 'cardiomegaly', 'pleural effusion', 'infiltration', 'lung mass', 'lung nodule', 'pneumonia', 'pneumothorax', 'consolidation', 'edema', 'emphysema', 'fibrosis', 'pleural thicken', 'hernia', 'no finding'].\n",
    "##ABCD尝试 \n",
    "# What type of disease is shown in this chest x-ray image? Choose one from A. Atelectasis.\\n B. Cardiomegaly.\\n C. Pleural Effusion.\\nD. Infiltration.\n",
    "# ['fibrosis', 'edema', 'pneumothorax', 'cardiomegaly', 'atelectasis', 'nodule', 'emphysema', 'no finding', 'mass', 'pleural_thickening', 'effusion', 'infiltration', 'pneumonia', 'hernia', 'consolidation']\n"
   ]
  },
  {
   "cell_type": "code",
   "execution_count": null,
   "metadata": {},
   "outputs": [],
   "source": [
    "# 随机遍历jsonl文件1000行，获取每一行的question_id和text内容，question_id"
   ]
  },
  {
   "cell_type": "code",
   "execution_count": 55,
   "metadata": {},
   "outputs": [
    {
     "name": "stdout",
     "output_type": "stream",
     "text": [
      "Total labels: 1000\n",
      "Accuracy: 6.10%\n",
      "Number of errors: 939\n",
      "Error question IDs: ['16031-no finding', '303-no finding', '15387-atelectasis', '2569-infiltration, pneumothorax', '15203-effusion, infiltration, pneumothorax', '9561-effusion, infiltration', '6817-no finding', '19636-infiltration, mass', '22920-infiltration, pneumothorax', '14558-no finding', '9379-no finding', '4594-no finding', '25223-atelectasis, infiltration', '15018-no finding', '22358-no finding', '2495-no finding', '3063-no finding', '22065-no finding', '21779-no finding', '19239-no finding', '21500-nodule', '5753-atelectasis, cardiomegaly', '7966-no finding', '7273-no finding', '25244-atelectasis, infiltration, pneumothorax', '21851-mass, nodule', '15219-no finding', '21672-infiltration', '15312-infiltration', '10924-no finding', '11146-nodule', '17668-no finding', '1376-infiltration, pneumothorax', '14631-effusion', '7867-no finding', '13664-infiltration', '7149-no finding', '11532-atelectasis', '246-mass', '15859-effusion', '18015-no finding', '16920-infiltration', '12626-no finding', '8021-no finding', '10195-pneumothorax', '7539-consolidation, infiltration', '3997-no finding', '16493-no finding', '16907-emphysema', '4958-infiltration', '8258-cardiomegaly, effusion', '19194-no finding', '24336-no finding', '12142-infiltration, pneumothorax', '21774-mass, pneumothorax', '12296-edema', '7913-consolidation, infiltration', '8176-pleural_thickening', '15983-effusion', '19119-no finding', '5610-no finding', '12015-no finding', '20647-no finding', '23834-pleural_thickening', '1835-no finding', '15200-no finding', '8169-pleural_thickening', '10311-effusion', '14184-infiltration', '5473-no finding', '2669-no finding', '14521-infiltration', '3090-effusion', '1068-emphysema, pneumothorax', '7511-no finding', '11023-no finding', '16370-no finding', '25-pneumothorax', '592-no finding', '6984-pneumothorax', '10228-infiltration', '1531-effusion, mass', '24258-no finding', '18370-effusion', '4992-effusion', '25398-no finding', '17849-no finding', '21252-effusion, infiltration', '23841-no finding', '23014-edema', '16494-consolidation, edema', '12655-atelectasis, mass', '2756-infiltration', '17227-no finding', '7529-pneumothorax', '6972-emphysema', '10933-no finding', '14870-no finding', '19363-pneumothorax', '6016-no finding', '23552-atelectasis, infiltration', '24541-cardiomegaly, effusion', '8848-consolidation, edema, effusion', '13160-no finding', '1582-no finding', '1054-edema', '13973-effusion', '19305-emphysema', '10343-infiltration, pneumothorax', '22871-no finding', '4720-no finding', '2687-no finding', '17996-no finding', '17551-no finding', '22360-mass, nodule', '9540-effusion', '22782-infiltration', '16656-infiltration, mass', '3245-infiltration, nodule, pneumonia', '2874-no finding', '8996-no finding', '9173-atelectasis', '23758-atelectasis', '17404-atelectasis, effusion, infiltration', '93-no finding', '14239-infiltration', '7486-no finding', '7364-no finding', '7380-no finding', '3119-pneumonia', '12659-no finding', '17683-atelectasis', '21241-effusion', '18179-consolidation', '20318-infiltration, pneumothorax', '5502-no finding', '1792-no finding', '20886-infiltration', '7994-emphysema, infiltration', '18292-infiltration', '22991-effusion, infiltration, pneumothorax', '11824-effusion', '3120-no finding', '20715-no finding', '21005-no finding', '15184-infiltration, pneumonia', '10699-pleural_thickening', '17931-no finding', '1674-no finding', '2950-no finding', '14009-effusion, infiltration', '14954-atelectasis, infiltration, mass', '8779-no finding', '13250-no finding', '14958-no finding', '18325-infiltration', '15690-cardiomegaly', '17348-emphysema, pneumothorax', '17063-no finding', '10937-no finding', '15867-atelectasis, pneumonia', '21964-no finding', '16271-no finding', '14918-no finding', '24205-no finding', '15498-infiltration', '22795-infiltration, mass', '19442-no finding', '5518-no finding', '19280-infiltration', '10701-no finding', '848-no finding', '1866-infiltration', '831-pneumothorax', '14806-pneumothorax', '10395-no finding', '5380-atelectasis, infiltration', '197-atelectasis, consolidation', '22626-pneumothorax', '23703-atelectasis, emphysema', '15736-pleural_thickening', '22010-no finding', '9652-no finding', '4393-no finding', '17332-no finding', '16316-atelectasis, infiltration', '5245-atelectasis, effusion, infiltration', '9699-no finding', '13181-atelectasis, effusion, pneumonia', '3716-no finding', '18136-no finding', '777-effusion, emphysema, pneumothorax', '14898-no finding', '22219-no finding', '14489-effusion, emphysema, infiltration', '8456-no finding', '3092-mass, nodule, pleural_thickening', '3701-nodule', '24036-atelectasis, consolidation', '7510-infiltration', '21360-edema, infiltration, mass, nodule', '8771-effusion', '24620-infiltration, pneumothorax', '19222-no finding', '15352-nodule', '1124-infiltration', '9245-infiltration', '12563-no finding', '15795-no finding', '2283-no finding', '4061-consolidation', '2128-no finding', '21899-infiltration', '13496-no finding', '15423-no finding', '11590-atelectasis, cardiomegaly, pneumonia', '13954-no finding', '13741-no finding', '19440-infiltration, pleural_thickening', '8886-infiltration', '8820-effusion, infiltration', '1856-no finding', '3973-infiltration', '1215-no finding', '15114-effusion', '7616-effusion', '20669-infiltration', '22655-no finding', '6149-cardiomegaly, effusion', '21144-no finding', '12498-atelectasis, effusion, infiltration, mass', '13897-infiltration', '12031-no finding', '4550-no finding', '23122-pleural_thickening', '10184-no finding', '14680-no finding', '10684-no finding', '11284-no finding', '21850-effusion, infiltration, pneumonia, pneumothorax', '10442-atelectasis', '12467-consolidation, effusion, infiltration, mass', '24201-consolidation', '18150-atelectasis, effusion', '13312-no finding', '8645-no finding', '14843-no finding', '6447-mass', '9882-no finding', '19479-no finding', '15388-mass', '19654-infiltration, pneumothorax', '283-no finding', '10989-nodule', '17563-infiltration, nodule', '19735-infiltration', '8016-edema, effusion', '11500-cardiomegaly, effusion', '8979-no finding', '12483-edema, infiltration, pneumonia', '22521-atelectasis, infiltration, pleural_thickening', '24656-no finding', '20700-atelectasis, infiltration, pneumothorax', '17868-no finding', '18520-pleural_thickening', '25172-cardiomegaly, consolidation', '639-edema, infiltration, mass, pneumonia', '8375-atelectasis, infiltration, pleural_thickening', '16886-pneumothorax', '11112-fibrosis', '641-atelectasis, effusion', '8499-no finding', '8833-no finding', '3999-no finding', '23296-no finding', '3469-mass, pneumothorax', '23900-pleural_thickening', '9707-no finding', '17864-nodule', '4928-no finding', '609-no finding', '730-no finding', '11972-effusion, infiltration', '18651-edema', '7-effusion', '4874-atelectasis', '19326-atelectasis, effusion, pneumothorax', '14018-edema, effusion', '17207-effusion, nodule', '6255-no finding', '16517-no finding', '9961-effusion, mass', '3702-edema, effusion', '3468-edema, emphysema, infiltration, mass, pneumonia', '22422-edema, infiltration, pneumonia', '13092-atelectasis, infiltration', '19584-no finding', '11228-emphysema, pneumothorax', '23061-no finding', '6857-infiltration, pneumothorax, pneumonia', '443-atelectasis, effusion', '25079-no finding', '4265-atelectasis, emphysema, pneumothorax', '19325-cardiomegaly, effusion, pneumothorax', '3472-pneumothorax', '5017-edema, infiltration', '7040-effusion', '24451-cardiomegaly', '25360-atelectasis, effusion', '25320-infiltration', '18188-emphysema', '11819-infiltration', '17191-pneumothorax', '3899-atelectasis, cardiomegaly', '21539-no finding', '15695-no finding', '22416-pneumothorax', '20645-no finding', '2988-no finding', '17582-infiltration', '7708-cardiomegaly, effusion, emphysema, infiltration, pneumothorax', '14027-effusion, infiltration', '20382-no finding', '16709-no finding', '20992-atelectasis, effusion', '24407-infiltration', '20055-no finding', '11720-atelectasis', '24378-no finding', '17341-effusion, mass', '17186-infiltration', '16701-no finding', '15090-no finding', '11037-no finding', '11847-no finding', '11668-no finding', '23424-effusion, infiltration', '5333-effusion, emphysema', '12742-emphysema, infiltration', '10192-emphysema, mass, pneumothorax', '20738-nodule', '16603-no finding', '10393-atelectasis, effusion, infiltration', '18942-atelectasis, emphysema, pneumothorax', '4522-infiltration', '24725-effusion', '20760-infiltration', '574-no finding', '7626-no finding', '13600-infiltration', '20649-infiltration', '22959-mass', '9211-no finding', '10760-no finding', '6120-edema', '19332-infiltration', '2693-pneumonia', '11177-no finding', '19860-infiltration, pleural_thickening', '19019-atelectasis, infiltration, pneumonia', '6715-consolidation', '23984-emphysema, infiltration', '3860-atelectasis, infiltration', '25372-atelectasis, effusion', '24603-cardiomegaly, effusion', '23876-pneumothorax', '18799-infiltration', '14719-infiltration, nodule', '24684-no finding', '2548-atelectasis, infiltration', '10459-atelectasis, effusion, pleural_thickening', '3789-no finding', '17811-infiltration', '13049-edema', '6367-no finding', '8991-pneumothorax', '16289-effusion', '24439-no finding', '13055-no finding', '16782-mass', '20643-effusion', '16594-effusion, infiltration', '20716-atelectasis', '5736-no finding', '21950-no finding', '13603-atelectasis, consolidation, effusion, pleural_thickening', '2155-cardiomegaly', '10726-no finding', '20084-no finding', '21783-no finding', '4468-consolidation', '17398-effusion, pneumothorax', '5313-no finding', '12609-edema, infiltration', '22190-no finding', '7178-atelectasis, consolidation, effusion, emphysema, mass, pneumothorax', '11788-no finding', '9012-infiltration, pneumonia', '24145-infiltration, nodule', '22412-infiltration', '4125-infiltration', '10104-infiltration', '7788-edema, infiltration', '17841-pneumothorax', '19490-edema, infiltration', '330-emphysema, mass', '3077-no finding', '20334-edema, infiltration', '23274-mass', '12764-pneumothorax', '15424-effusion', '12921-atelectasis, effusion, infiltration', '18021-emphysema', '18780-no finding', '12722-no finding', '3251-infiltration', '3534-emphysema, pneumothorax', '19961-no finding', '886-pneumothorax', '462-no finding', '7852-no finding', '24229-infiltration', '4158-effusion', '3722-infiltration, mass', '7295-effusion, infiltration', '16725-no finding', '21082-no finding', '21938-cardiomegaly, effusion, infiltration', '2054-atelectasis, pneumothorax', '16285-infiltration', '6948-nodule', '16726-atelectasis, infiltration, nodule', '14945-emphysema', '17213-no finding', '1725-cardiomegaly, infiltration', '7963-no finding', '9026-atelectasis, hernia', '19492-nodule', '22536-atelectasis, effusion, infiltration', '13166-no finding', '215-pleural_thickening', '13772-atelectasis, effusion, emphysema, pneumothorax', '12554-no finding', '16361-no finding', '6303-atelectasis, infiltration, pneumonia', '9063-no finding', '10448-no finding', '18123-infiltration', '25551-no finding', '13705-no finding', '171-effusion', '4228-no finding', '1720-mass, pleural_thickening', '15389-effusion, pneumothorax', '14350-atelectasis, pleural_thickening', '22397-effusion, infiltration', '1879-no finding', '10678-nodule, pneumothorax', '20954-no finding', '7206-atelectasis, mass', '19749-pneumothorax', '7694-no finding', '18360-infiltration, nodule', '8816-emphysema, pneumothorax', '18726-infiltration', '7651-cardiomegaly', '20718-no finding', '2392-infiltration, pleural_thickening', '13358-edema, infiltration, pneumonia', '17517-no finding', '18637-effusion, infiltration', '23100-cardiomegaly', '3832-infiltration, pneumothorax', '15008-atelectasis', '23529-consolidation', '25169-cardiomegaly', '9032-pneumothorax', '21481-atelectasis, effusion, infiltration', '3841-no finding', '12426-no finding', '11154-effusion, pneumothorax', '19293-infiltration, mass, nodule', '10813-no finding', '20231-effusion', '6346-effusion', '20711-no finding', '6136-atelectasis, mass', '6532-no finding', '7606-no finding', '2844-no finding', '22381-no finding', '18185-no finding', '378-infiltration', '4491-no finding', '19223-no finding', '1877-effusion', '9615-hernia', '19857-no finding', '23651-emphysema, pleural_thickening', '22169-atelectasis, infiltration, pneumothorax', '22491-no finding', '7723-no finding', '15931-no finding', '17631-consolidation, effusion, infiltration', '23948-fibrosis', '17255-nodule', '7859-atelectasis, effusion', '8490-no finding', '10620-no finding', '6659-cardiomegaly, consolidation, infiltration', '10326-no finding', '9187-edema, infiltration', '10918-pneumothorax', '154-effusion', '20273-no finding', '8077-mass, nodule', '18197-atelectasis', '12451-atelectasis, effusion, pneumothorax', '13474-no finding', '17816-no finding', '3569-no finding', '6066-infiltration', '12988-no finding', '14531-no finding', '1937-cardiomegaly, effusion', '23425-mass, pleural_thickening', '1252-pleural_thickening', '7294-infiltration, pneumothorax', '10615-no finding', '16262-pneumothorax', '18258-no finding', '540-no finding', '19768-effusion, pneumothorax', '12548-fibrosis, pleural_thickening', '17075-no finding', '6333-atelectasis', '22409-cardiomegaly, effusion', '3581-cardiomegaly, edema, infiltration, pneumonia', '33-effusion', '24038-consolidation', '8659-edema', '4983-no finding', '18398-no finding', '1986-no finding', '3436-no finding', '8792-no finding', '8805-no finding', '3852-infiltration', '7595-no finding', '22373-atelectasis, infiltration', '2150-no finding', '4446-no finding', '11486-consolidation, pleural_thickening', '22203-no finding', '12564-cardiomegaly, effusion, fibrosis, pleural_thickening, pneumothorax', '24561-no finding', '20761-atelectasis, effusion', '9651-no finding', '4456-effusion, infiltration', '3826-mass', '1186-fibrosis, mass', '9850-atelectasis, consolidation, mass, nodule, pleural_thickening', '24682-infiltration', '22762-effusion, infiltration, pneumothorax', '22386-cardiomegaly, effusion, mass', '21510-effusion', '16038-nodule', '22427-atelectasis, pneumothorax', '962-effusion, pleural_thickening, pneumothorax', '24870-infiltration', '13742-effusion, pneumothorax', '20202-atelectasis', '25368-no finding', '2282-pneumonia', '15429-effusion', '21822-atelectasis, effusion', '23356-no finding', '12993-infiltration, nodule', '3096-no finding', '24843-no finding', '4915-no finding', '21858-cardiomegaly, infiltration', '1504-atelectasis, infiltration', '4876-infiltration, nodule', '12292-consolidation', '3464-no finding', '5703-infiltration', '4656-nodule, pneumothorax', '23141-effusion, pneumothorax', '15946-cardiomegaly', '3456-atelectasis, infiltration, pneumothorax', '12738-no finding', '8842-no finding', '21912-effusion, infiltration, pneumothorax', '1997-effusion, pleural_thickening', '10157-infiltration, nodule', '12812-no finding', '21739-nodule', '17177-fibrosis, pleural_thickening', '15206-no finding', '24991-effusion, infiltration', '4732-no finding', '10614-fibrosis, infiltration', '990-mass', '11342-infiltration', '237-pneumothorax', '21918-atelectasis', '14245-pneumothorax', '19261-no finding', '2027-atelectasis, infiltration', '3549-no finding', '7099-mass, pneumothorax', '7030-atelectasis, infiltration', '12184-cardiomegaly', '14181-atelectasis, pneumothorax', '3791-cardiomegaly, fibrosis, infiltration', '17345-no finding', '24523-no finding', '6579-no finding', '6260-no finding', '20306-cardiomegaly, effusion', '23490-effusion', '5806-mass', '4745-no finding', '22489-pneumothorax', '19495-no finding', '1544-atelectasis, emphysema, fibrosis', '15879-pneumothorax', '2193-no finding', '8326-effusion', '25363-pneumothorax', '2550-cardiomegaly, pleural_thickening', '14210-infiltration', '24348-no finding', '12375-no finding', '8744-no finding', '23301-effusion, emphysema, pneumothorax', '25048-no finding', '17870-no finding', '22244-atelectasis, effusion, pneumothorax', '23471-infiltration, mass', '16521-atelectasis', '17455-atelectasis', '22000-atelectasis', '3091-no finding', '24757-emphysema, pneumothorax', '15367-infiltration', '11770-no finding', '14257-no finding', '13485-cardiomegaly, effusion', '10147-no finding', '22160-cardiomegaly, edema, effusion', '24063-atelectasis', '25024-infiltration', '5523-atelectasis, effusion', '15092-mass', '21598-consolidation', '23751-atelectasis, infiltration, nodule, pneumothorax', '5738-no finding', '5816-no finding', '21671-no finding', '16238-effusion, nodule', '22528-nodule', '22414-no finding', '24207-no finding', '14541-no finding', '15926-infiltration', '10318-pleural_thickening', '15930-atelectasis, effusion', '23393-atelectasis, infiltration', '24538-no finding', '13917-pleural_thickening', '14919-no finding', '1102-nodule', '11605-nodule', '20846-atelectasis, pneumothorax', '19923-effusion', '11325-pleural_thickening', '5060-no finding', '5469-no finding', '14089-infiltration', '24161-no finding', '690-no finding', '14454-no finding', '16561-cardiomegaly, infiltration', '13438-no finding', '24050-cardiomegaly', '7214-emphysema', '15732-effusion', '24491-no finding', '8017-no finding', '103-no finding', '13956-pneumothorax', '16706-no finding', '3474-no finding', '13269-infiltration, pneumothorax', '25536-no finding', '2724-pneumothorax', '7962-effusion, mass', '14028-no finding', '11925-no finding', '8092-atelectasis, effusion', '21577-infiltration', '22649-cardiomegaly, effusion', '16151-no finding', '12048-no finding', '11408-effusion', '11236-infiltration', '24283-cardiomegaly', '6903-infiltration', '3112-infiltration', '11749-no finding', '8223-pneumothorax', '4128-pneumothorax', '8208-effusion', '20120-infiltration', '20575-cardiomegaly', '19095-no finding', '25453-no finding', '15063-no finding', '21548-no finding', '5186-emphysema, mass', '9809-no finding', '9664-no finding', '21485-atelectasis, effusion', '7007-infiltration', '24827-infiltration, pneumothorax', '20094-no finding', '24902-pneumothorax', '20054-mass', '10193-atelectasis, consolidation, effusion', '10906-no finding', '11568-effusion, nodule', '4031-edema, mass, nodule', '16604-infiltration', '16355-cardiomegaly, effusion, pleural_thickening', '11174-mass', '2021-consolidation, mass, nodule', '23951-infiltration, nodule', '4469-effusion, infiltration, pneumothorax', '4057-infiltration, pneumothorax', '16914-mass', '2777-no finding', '11928-nodule', '3050-no finding', '3833-emphysema', '20374-edema', '4889-no finding', '18173-pneumothorax', '13490-infiltration, pleural_thickening', '6072-no finding', '25489-effusion, infiltration, pneumothorax', '20315-atelectasis, effusion, infiltration, mass', '24004-no finding', '8544-cardiomegaly', '24498-effusion', '14128-no finding', '20588-edema, effusion, infiltration, pneumonia', '3370-no finding', '20505-atelectasis, infiltration', '13611-effusion, mass, nodule', '2257-effusion, nodule', '12158-no finding', '11280-effusion', '14901-no finding', '23319-effusion, infiltration', '22942-consolidation, edema, effusion', '22047-mass', '9300-mass', '17285-no finding', '16819-no finding', '5673-atelectasis, infiltration, pneumonia', '16081-no finding', '18592-effusion', '7225-no finding', '15039-mass, pneumonia', '2626-no finding', '19792-no finding', '18078-no finding', '2708-pneumothorax', '16443-no finding', '16714-no finding', '13588-no finding', '4109-atelectasis', '4007-mass, nodule', '22204-no finding', '25546-infiltration', '6280-infiltration', '8244-no finding', '13635-emphysema, pleural_thickening, pneumothorax', '6217-no finding', '12647-edema, effusion', '7554-infiltration', '15742-no finding', '21217-effusion', '5943-no finding', '10140-no finding', '6284-no finding', '7682-no finding', '14689-no finding', '7599-no finding', '19333-no finding', '17408-mass', '16677-effusion', '19494-no finding', '17399-no finding', '16473-no finding', '12710-pneumonia', '10515-no finding', '2149-pneumothorax', '12408-mass', '23863-atelectasis, effusion', '3936-no finding', '12197-atelectasis, consolidation', '12940-no finding', '23940-no finding', '8955-infiltration', '18130-atelectasis, effusion, infiltration', '601-cardiomegaly, consolidation, edema, effusion', '12172-no finding', '9973-atelectasis, effusion, infiltration', '1695-no finding', '2131-emphysema, infiltration, pneumothorax', '17777-effusion, infiltration', '14505-emphysema, pneumothorax', '13568-no finding', '1992-atelectasis, mass', '9502-infiltration', '8819-atelectasis, effusion', '23732-nodule', '25232-no finding', '8479-effusion, pneumothorax', '19090-infiltration', '9208-atelectasis, emphysema, infiltration', '2325-atelectasis', '15141-mass', '10064-atelectasis', '18569-effusion, infiltration', '24514-emphysema', '7522-mass', '24149-no finding', '4075-atelectasis, consolidation, effusion, infiltration, mass, nodule', '23383-no finding', '14739-pneumothorax', '10617-consolidation', '16051-no finding', '9087-effusion', '6052-cardiomegaly', '24836-no finding', '23997-no finding', '22488-atelectasis, effusion', '6443-emphysema', '19147-effusion', '12950-effusion, mass', '2954-effusion, infiltration', '18437-effusion, pneumothorax', '20638-no finding', '24298-mass', '2850-no finding', '10128-no finding', '23047-cardiomegaly, effusion', '1326-no finding', '22556-emphysema, infiltration, mass', '10303-infiltration, pneumothorax', '8112-atelectasis, emphysema, infiltration, pneumothorax', '15993-no finding', '18752-consolidation', '21038-nodule, pneumothorax', '6778-effusion', '18918-pneumothorax', '854-cardiomegaly', '4718-no finding', '17390-no finding', '15354-no finding', '843-no finding', '2479-no finding', '9902-atelectasis', '22340-effusion', '6528-pneumothorax', '12460-no finding', '23194-effusion, infiltration', '8654-mass', '19277-pneumothorax', '21034-no finding', '4896-infiltration', '13541-atelectasis, effusion', '11291-pneumothorax', '6495-no finding', '4038-no finding', '9233-no finding', '15644-no finding', '12496-atelectasis, emphysema, pneumothorax', '4701-no finding', '20578-no finding', '56-infiltration', '7513-no finding', '8422-effusion', '10953-no finding', '12400-no finding', '9420-atelectasis, pleural_thickening', '9787-no finding', '14971-mass', '22911-consolidation, mass', '3198-no finding', '14189-consolidation, edema, effusion', '7832-no finding', '19202-no finding', '24714-atelectasis', '2545-infiltration', '7808-atelectasis, effusion, nodule', '2473-no finding', '9122-no finding', '3183-effusion, infiltration', '3988-pleural_thickening', '12047-consolidation, infiltration', '25381-pleural_thickening', '8984-no finding', '23626-pleural_thickening, pneumothorax', '7406-no finding', '8691-cardiomegaly', '19863-no finding', '12947-pneumothorax', '15549-consolidation, infiltration', '6710-pneumothorax', '948-no finding', '7886-edema', '10960-no finding', '24107-atelectasis, consolidation, infiltration', '14962-atelectasis, consolidation, effusion, mass', '20350-atelectasis', '12633-edema, infiltration, nodule', '8311-infiltration, nodule', '20410-pleural_thickening', '9906-emphysema', '18952-atelectasis, emphysema', '6103-no finding', '19818-pneumothorax', '12397-no finding', '10333-no finding']\n"
     ]
    }
   ],
   "source": [
    "import json\n",
    "import re\n",
    "import numpy as np\n",
    "\n",
    "# 读取数据\n",
    "output_path = '/home/lby/llava_med/LLaVA-Med/data/eval/test_fine_tuning/Chest-X-ray_llava_val_ans.jsonl'\n",
    "answers = [json.loads(line) for line in open(output_path)]\n",
    "\n",
    "disease_list = ['fibrosis', 'edema', 'pneumothorax', 'cardiomegaly', 'atelectasis', 'nodule', 'emphysema', 'no finding', 'mass', 'pleural_thickening', 'effusion', 'infiltration', 'pneumonia', 'hernia', 'consolidation']\n",
    "\n",
    "# 随机选择 1000 行\n",
    "random.shuffle(answers)\n",
    "selected_answers = answers[:1000]\n",
    "\n",
    "# 初始化变量\n",
    "correct_predictions = 0\n",
    "total_predictions = len(selected_answers)\n",
    "error_count = 0\n",
    "error_question_ids = []\n",
    "\n",
    "# 遍历每个 answer，提取 labels 和预测类别\n",
    "for item in selected_answers:\n",
    "    # 获取标签（label），labels 可能包含多个标签，以逗号或其他符号分隔\n",
    "    labels = [\"-\".join(item[\"question_id\"].split(\"-\")[1:])]  # 获取 label\n",
    "    labels = [label.lower() for label in labels]  # 转为小写以方便比较\n",
    "\n",
    "    # 获取预测的 text\n",
    "    text = item[\"text\"].lower()\n",
    "\n",
    "    # 尝试在 text 中找到疾病列表中的元素作为预测结果\n",
    "    predicted_categories = [disease for disease in disease_list if disease in text]\n",
    "\n",
    "    if predicted_categories:\n",
    "        predicted_category = predicted_categories[0]  # 假设预测类别为匹配到的第一个疾病\n",
    "    else:\n",
    "        # 如果无法提取预测类别，统计为出错\n",
    "        error_count += 1\n",
    "        error_question_ids.append(item[\"question_id\"])\n",
    "        continue  # 跳过此项\n",
    "\n",
    "    # 检查预测类别是否在 labels 列表中\n",
    "    if any(predicted_category in label for label in labels):\n",
    "        correct_predictions += 1\n",
    "    else:\n",
    "        # 如果预测错误，统计出错信息\n",
    "        error_count += 1\n",
    "        error_question_ids.append(item[\"question_id\"])\n",
    "\n",
    "# 计算准确率\n",
    "accuracy = (correct_predictions / total_predictions) * 100\n",
    "\n",
    "# 输出结果\n",
    "print(f\"Total labels: {total_predictions}\")\n",
    "print(f\"Accuracy: {accuracy:.2f}%\")\n",
    "print(f\"Number of errors: {error_count}\")\n",
    "print(f\"Error question IDs: {error_question_ids}\")"
   ]
  }
 ],
 "metadata": {
  "kernelspec": {
   "display_name": "llava-med",
   "language": "python",
   "name": "python3"
  },
  "language_info": {
   "codemirror_mode": {
    "name": "ipython",
    "version": 3
   },
   "file_extension": ".py",
   "mimetype": "text/x-python",
   "name": "python",
   "nbconvert_exporter": "python",
   "pygments_lexer": "ipython3",
   "version": "3.10.14"
  }
 },
 "nbformat": 4,
 "nbformat_minor": 2
}
